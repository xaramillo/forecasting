{
 "cells": [
  {
   "cell_type": "code",
   "execution_count": 2,
   "id": "4d3a23da",
   "metadata": {},
   "outputs": [],
   "source": [
    "import pandas as pd\n",
    "import os"
   ]
  },
  {
   "cell_type": "code",
   "execution_count": 3,
   "id": "3be19734",
   "metadata": {},
   "outputs": [
    {
     "data": {
      "text/plain": [
       "['Historical Product Demand.csv',\n",
       " 'material_2023-01-31.parquet',\n",
       " 'Untitled.ipynb',\n",
       " 'demand-rfr.pkl',\n",
       " 'nohup.out',\n",
       " 'join_parquets.py',\n",
       " 'product-demand-rfr.py.save',\n",
       " 'xgb_ho.py',\n",
       " 'Untitled1.ipynb',\n",
       " 'README.md',\n",
       " 'prediction',\n",
       " 'custom_resume.csv',\n",
       " 'libraries.py',\n",
       " 'concat_pandas_2022.csv',\n",
       " 'summary_files.py',\n",
       " 'api.py',\n",
       " 'AdamOptimizerInteractive.ipynb',\n",
       " 'xgb_gh.py',\n",
       " 'single_parquets.py',\n",
       " 'customer_catalog_prep.py',\n",
       " 'adam_optimizer.py',\n",
       " 'customers_2022.csv',\n",
       " 'concat_data.csv',\n",
       " 'demand_pred_FEB23.parquet',\n",
       " 'kmeans grouping.ipynb',\n",
       " 'LICENSE',\n",
       " '.ipynb_checkpoints',\n",
       " 'concat_pandas.py',\n",
       " 'demand-xgb_ho.py',\n",
       " 'product-demand-rfr.py',\n",
       " 'xgb_grid.py',\n",
       " 'demand-rfr.py',\n",
       " 'scaler_xgb.pkl',\n",
       " 'product-demand-xgb_ho.py',\n",
       " 'product-demand-adam-auto.py',\n",
       " 'concat_pandas_2021plus.csv',\n",
       " 'scaler.pkl',\n",
       " 'smn_data_parser.py',\n",
       " 'demand_pred_JAN23.parquet',\n",
       " 'data',\n",
       " 'product-demand-adam-auto.py.save',\n",
       " 'Validation.ipynb',\n",
       " 'catalogs',\n",
       " '.git']"
      ]
     },
     "execution_count": 3,
     "metadata": {},
     "output_type": "execute_result"
    }
   ],
   "source": [
    "os.listdir()\n"
   ]
  },
  {
   "cell_type": "code",
   "execution_count": 4,
   "id": "0d43a65d",
   "metadata": {},
   "outputs": [],
   "source": [
    "d = pd.read_parquet( 'demand_pred_FEB23.parquet')"
   ]
  },
  {
   "cell_type": "code",
   "execution_count": 6,
   "id": "431903a4",
   "metadata": {},
   "outputs": [
    {
     "data": {
      "text/plain": [
       "14969069.0"
      ]
     },
     "execution_count": 6,
     "metadata": {},
     "output_type": "execute_result"
    }
   ],
   "source": [
    "d.PRED.sum()"
   ]
  },
  {
   "cell_type": "code",
   "execution_count": 7,
   "id": "36258260",
   "metadata": {},
   "outputs": [],
   "source": [
    "d = pd.read_parquet( 'demand_pred_JAN23.parquet')"
   ]
  },
  {
   "cell_type": "code",
   "execution_count": 9,
   "id": "6ad4328e",
   "metadata": {},
   "outputs": [
    {
     "data": {
      "text/html": [
       "<div>\n",
       "<style scoped>\n",
       "    .dataframe tbody tr th:only-of-type {\n",
       "        vertical-align: middle;\n",
       "    }\n",
       "\n",
       "    .dataframe tbody tr th {\n",
       "        vertical-align: top;\n",
       "    }\n",
       "\n",
       "    .dataframe thead th {\n",
       "        text-align: right;\n",
       "    }\n",
       "</style>\n",
       "<table border=\"1\" class=\"dataframe\">\n",
       "  <thead>\n",
       "    <tr style=\"text-align: right;\">\n",
       "      <th></th>\n",
       "      <th>CUSTOMER</th>\n",
       "      <th>MATERIAL</th>\n",
       "      <th>PRED</th>\n",
       "    </tr>\n",
       "  </thead>\n",
       "  <tbody>\n",
       "    <tr>\n",
       "      <th>0</th>\n",
       "      <td>6001380</td>\n",
       "      <td>409</td>\n",
       "      <td>1.0</td>\n",
       "    </tr>\n",
       "    <tr>\n",
       "      <th>1</th>\n",
       "      <td>6001380</td>\n",
       "      <td>436</td>\n",
       "      <td>1.0</td>\n",
       "    </tr>\n",
       "    <tr>\n",
       "      <th>2</th>\n",
       "      <td>6001380</td>\n",
       "      <td>442</td>\n",
       "      <td>1.0</td>\n",
       "    </tr>\n",
       "    <tr>\n",
       "      <th>3</th>\n",
       "      <td>6001380</td>\n",
       "      <td>450</td>\n",
       "      <td>1.0</td>\n",
       "    </tr>\n",
       "    <tr>\n",
       "      <th>4</th>\n",
       "      <td>6001380</td>\n",
       "      <td>459</td>\n",
       "      <td>1.0</td>\n",
       "    </tr>\n",
       "  </tbody>\n",
       "</table>\n",
       "</div>"
      ],
      "text/plain": [
       "   CUSTOMER  MATERIAL  PRED\n",
       "0   6001380       409   1.0\n",
       "1   6001380       436   1.0\n",
       "2   6001380       442   1.0\n",
       "3   6001380       450   1.0\n",
       "4   6001380       459   1.0"
      ]
     },
     "execution_count": 9,
     "metadata": {},
     "output_type": "execute_result"
    }
   ],
   "source": [
    "d.head()"
   ]
  },
  {
   "cell_type": "code",
   "execution_count": null,
   "id": "6639e685",
   "metadata": {},
   "outputs": [],
   "source": []
  }
 ],
 "metadata": {
  "kernelspec": {
   "display_name": "Python 3 (ipykernel)",
   "language": "python",
   "name": "python3"
  },
  "language_info": {
   "codemirror_mode": {
    "name": "ipython",
    "version": 3
   },
   "file_extension": ".py",
   "mimetype": "text/x-python",
   "name": "python",
   "nbconvert_exporter": "python",
   "pygments_lexer": "ipython3",
   "version": "3.10.8"
  }
 },
 "nbformat": 4,
 "nbformat_minor": 5
}
